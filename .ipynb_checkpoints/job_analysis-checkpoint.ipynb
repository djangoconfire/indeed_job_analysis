{
 "cells": [
  {
   "cell_type": "markdown",
   "metadata": {},
   "source": [
    "### Scrapping data from web"
   ]
  },
  {
   "cell_type": "code",
   "execution_count": 4,
   "metadata": {
    "collapsed": false
   },
   "outputs": [],
   "source": [
    "import matplotlib.pyplot as plt\n",
    "%matplotlib inline\n",
    "import pandas as pd\n",
    "from bs4 import BeautifulSoup\n",
    "import urllib2, requests"
   ]
  },
  {
   "cell_type": "markdown",
   "metadata": {},
   "source": [
    "#### Functions to extract location , company, job_title, summary and salary"
   ]
  },
  {
   "cell_type": "code",
   "execution_count": 7,
   "metadata": {
    "collapsed": true
   },
   "outputs": [],
   "source": [
    "def extract_text(item):\n",
    "    if item:\n",
    "        return item.text.strip()\n",
    "    else:\n",
    "        return ''\n",
    "    \n",
    "def get_title_from_result(result):\n",
    "    return result.find('a',{'data-tn-element': 'jobTitle'}).text.strip()\n",
    "\n",
    "    \n",
    "def get_company_from_result(result):\n",
    "    return extract_text(result.find('span',{'class': 'company'}))\n",
    "\n",
    "def get_location_from_result(result):\n",
    "    return extract_text(result.find('span',{'class': 'location'}))\n",
    "\n",
    "def get_summary_from_result(result):\n",
    "    return extract_text(result.find('span',{'class': 'summary'}))\n",
    "\n",
    "    "
   ]
  },
  {
   "cell_type": "code",
   "execution_count": 12,
   "metadata": {
    "collapsed": false
   },
   "outputs": [],
   "source": [
    "url=\"http://www.indeed.com/jobs?q=data+scientist+${}%2C000&l=USA&start={}\"\n",
    "max_result_per_city=6000\n",
    "\n",
    "rows=[]\n",
    "for salary in set(['55-70','70-85','85-100','100-115']):\n",
    "    for start in range(10):\n",
    "        r=requests.get(url.format(salary, start))\n",
    "        soup=BeautifulSoup(r.content)\n",
    "        results=soup.findAll('div',{'class':  'result'})\n",
    "        for result in results[:10]:\n",
    "            if result:\n",
    "                print result\n",
    "                row={}\n",
    "                row['title']=get_title_from_result(result)\n",
    "                row['company']=get_company_from_result(result)\n",
    "                row['city']=get_location_from_result(result)\n",
    "                row['summary']=get_summary_from_result(result)\n",
    "                row['bin']=salary\n",
    "                \n",
    "                rows.append(row) "
   ]
  },
  {
   "cell_type": "code",
   "execution_count": 13,
   "metadata": {
    "collapsed": false
   },
   "outputs": [
    {
     "ename": "TypeError",
     "evalue": "'NoneType' object is not callable",
     "output_type": "error",
     "traceback": [
      "\u001b[0;31m---------------------------------------------------------------------------\u001b[0m",
      "\u001b[0;31mTypeError\u001b[0m                                 Traceback (most recent call last)",
      "\u001b[0;32m<ipython-input-13-3e02b31fb0da>\u001b[0m in \u001b[0;36m<module>\u001b[0;34m()\u001b[0m\n\u001b[0;32m----> 1\u001b[0;31m \u001b[0mresult\u001b[0m\u001b[0;34m.\u001b[0m\u001b[0mto_csv\u001b[0m\u001b[0;34m(\u001b[0m\u001b[0;34m'indeed_companies.csv'\u001b[0m\u001b[0;34m,\u001b[0m\u001b[0mencoding\u001b[0m\u001b[0;34m=\u001b[0m\u001b[0;34m'utf-8'\u001b[0m\u001b[0;34m)\u001b[0m\u001b[0;34m\u001b[0m\u001b[0m\n\u001b[0m",
      "\u001b[0;31mTypeError\u001b[0m: 'NoneType' object is not callable"
     ]
    }
   ],
   "source": [
    "# result.to_csv('indeed_companies.csv',encoding='utf-8')"
   ]
  },
  {
   "cell_type": "code",
   "execution_count": null,
   "metadata": {
    "collapsed": true
   },
   "outputs": [],
   "source": [
    "                                                                                                                       "
   ]
  }
 ],
 "metadata": {
  "kernelspec": {
   "display_name": "Python 2",
   "language": "python",
   "name": "python2"
  },
  "language_info": {
   "codemirror_mode": {
    "name": "ipython",
    "version": 2
   },
   "file_extension": ".py",
   "mimetype": "text/x-python",
   "name": "python",
   "nbconvert_exporter": "python",
   "pygments_lexer": "ipython2",
   "version": "2.7.12"
  }
 },
 "nbformat": 4,
 "nbformat_minor": 1
}
